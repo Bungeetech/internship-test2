{
 "cells": [
  {
   "cell_type": "code",
   "execution_count": 1,
   "id": "70ab5a3b-6a16-4007-95a6-c40f013ba20f",
   "metadata": {
    "tags": []
   },
   "outputs": [],
   "source": [
    "import pandas as pd"
   ]
  },
  {
   "cell_type": "code",
   "execution_count": 15,
   "id": "2a4cb1c3-6c68-4ce9-9df0-9cfc0cade62e",
   "metadata": {
    "tags": []
   },
   "outputs": [],
   "source": [
    "df_c = pd.read_csv('question-1.csv')\n",
    "new_df = pd.DataFrame(columns = df_c.columns)\n",
    "i = 0\n",
    "for df in pd.read_csv('question-1.csv', iterator=True, chunksize=10):\n",
    "    new_df.loc[i]=  df.sum(axis=0)\n",
    "    new_df.loc[i]['Year'] = df.reset_index()['Year'][0]\n",
    "    new_df.loc[i]['Population'] = df.reset_index()['Population'][len(df.reset_index()['Population']) -1]    \n",
    "    i+=1\n",
    "\n",
    "new_df.drop(['Total'], axis=1).to_csv('answer-1.csv',index=False)"
   ]
  },
  {
   "cell_type": "code",
   "execution_count": null,
   "id": "e2285634-8afa-4238-a2dc-0aadab0fda3e",
   "metadata": {},
   "outputs": [],
   "source": []
  }
 ],
 "metadata": {
  "kernelspec": {
   "display_name": "Python 3 (ipykernel)",
   "language": "python",
   "name": "python3"
  },
  "language_info": {
   "codemirror_mode": {
    "name": "ipython",
    "version": 3
   },
   "file_extension": ".py",
   "mimetype": "text/x-python",
   "name": "python",
   "nbconvert_exporter": "python",
   "pygments_lexer": "ipython3",
   "version": "3.9.7"
  }
 },
 "nbformat": 4,
 "nbformat_minor": 5
}
