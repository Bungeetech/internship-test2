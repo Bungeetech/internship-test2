{
 "cells": [
  {
   "cell_type": "code",
   "execution_count": 15,
   "id": "41979c0a-4dd1-4c42-b379-71481dc4b6e1",
   "metadata": {},
   "outputs": [],
   "source": [
    "import pandas as pd\n",
    "df = pd.read_csv('question-2.csv')\n",
    "gb = df.groupby('occupation').agg({'age': ['min', 'max']})\n",
    "gb.to_csv('answer-2.csv',index=False)"
   ]
  },
  {
   "cell_type": "code",
   "execution_count": null,
   "id": "52f05611-6e58-4dc7-8a6c-8608e27f1d0a",
   "metadata": {},
   "outputs": [],
   "source": []
  }
 ],
 "metadata": {
  "kernelspec": {
   "display_name": "Python 3 (ipykernel)",
   "language": "python",
   "name": "python3"
  },
  "language_info": {
   "codemirror_mode": {
    "name": "ipython",
    "version": 3
   },
   "file_extension": ".py",
   "mimetype": "text/x-python",
   "name": "python",
   "nbconvert_exporter": "python",
   "pygments_lexer": "ipython3",
   "version": "3.9.7"
  }
 },
 "nbformat": 4,
 "nbformat_minor": 5
}
